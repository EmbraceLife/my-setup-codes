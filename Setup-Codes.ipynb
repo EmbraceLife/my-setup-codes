{
 "cells": [
  {
   "cell_type": "markdown",
   "metadata": {},
   "source": [
    "## AWS setup for Deep Learning"
   ]
  },
  {
   "cell_type": "markdown",
   "metadata": {},
   "source": [
    "### most used links on AWS websites [link](http://localhost:8888/notebooks/ML-Theories.ipynb)"
   ]
  },
  {
   "cell_type": "markdown",
   "metadata": {},
   "source": [
    "> - check instances\n",
    "- check IP \n",
    "- check support case response\n",
    "- check subnet ID, securityGroupID\n",
    "- check billing"
   ]
  },
  {
   "cell_type": "markdown",
   "metadata": {},
   "source": [
    "### Reduce EBS size and request Spot Instance [link](http://localhost:8888/notebooks/ML-Theories.ipynb#How-to-reduce-size-of-t2-and-use-spot-Instance,-setup-a-g2.2xlarge-instance?)"
   ]
  },
  {
   "cell_type": "markdown",
   "metadata": {},
   "source": [
    "> - forum on reduce EBS size \n",
    "- my attempt to reduce EBS based on provided setup_p2.sh \n",
    "- request for spot instances"
   ]
  },
  {
   "cell_type": "markdown",
   "metadata": {},
   "source": [
    "### User Account and How to start and stop Instances"
   ]
  },
  {
   "cell_type": "markdown",
   "metadata": {},
   "source": [
    "> - my user name and keys [link](http://localhost:8888/notebooks/ML-Theories.ipynb#setup-AWS)\n",
    "- how to start and stop instance [link](http://wiki.fast.ai/index.php/Aws-alias)\n"
   ]
  },
  {
   "cell_type": "markdown",
   "metadata": {},
   "source": [
    "## Basic Set-up Codes"
   ]
  },
  {
   "cell_type": "markdown",
   "metadata": {
    "heading_collapsed": true
   },
   "source": [
    "#### my .bash_profile\n",
    "[go](#bash_profile)    \n",
    "#### Where do I store my setup codes\n",
    "[go](#setup-codes)     \n",
    "#### How to print jupyter notebook in colorful PDF?\n",
    "[go](#color-PDF-jupyter-notebook)    \n",
    "#### Why conda forge over conda\n",
    "[go](#why-conda-forge)    \n",
    "#### lazy function for git\n",
    "[go](#lazygit)    \n",
    "#### open jupyter notebook\n",
    "[go](#open-jupyter)    \n",
    "#### most used conda functions\n",
    "[go](#conda-funcs)    \n",
    "#### rpy2 install and update\n",
    "[go](#rpy2)    \n",
    "#### update to the latest R\n",
    "[go](#R)    \n",
    "#### fall back to earlier version of dplyr package\n",
    "[go](#dplyr-backward)    \n",
    "#### How to set up R for weka?\n",
    "[stack](http://stackoverflow.com/questions/40690767/how-to-set-up-in-mac-to-access-r-from-weka)    \n",
    "#### How to set up and write python with Cpython in weka?\n",
    "[go](http://stackoverflow.com/documentation/weka/7921/how-to-use-cpython-scripting-in-weka#t=201611200200583814111)     \n",
    "#### possible reasons why Weka stable3-8-1 or developer-branch won't start? \n",
    "[stack](http://stackoverflow.com/questions/40857429/why-weka-snapshot-version-wont-start-or-after-some-library-installation)\n",
    "\n",
    "#### How to open a weka kf file from terminal directly?\n",
    "[stackoverflow](http://stackoverflow.com/questions/40855934/how-to-open-a-weka-knowledgeflow-file-directly-from-terminal/40863615#40863615)\n",
    "\n",
    "\n",
    "#### Compare KnowledgeFlow to other interfaces and channels to Weka\n",
    "[stack doc](http://stackoverflow.com/documentation/weka/drafts/95576)\n",
    "\n",
    "#### How to setup environment variable for Jython in weka to access dataset folder?\n",
    "[stack doc](http://stackoverflow.com/documentation/weka/8046/getting-started-with-jython-in-weka#t=201611300028212891816)\n",
    "[stack Q](http://stackoverflow.com/questions/40878218/how-to-set-up-environment-variable-for-using-jython-in-weka/40878219#40878219)    "
   ]
  },
  {
   "cell_type": "markdown",
   "metadata": {
    "heading_collapsed": true
   },
   "source": [
    "#### How to update Graphlab?"
   ]
  },
  {
   "cell_type": "markdown",
   "metadata": {
    "hidden": true
   },
   "source": [
    "```python\n",
    "pip install --upgrade graphlab-create\n",
    "```"
   ]
  },
  {
   "cell_type": "markdown",
   "metadata": {
    "heading_collapsed": true
   },
   "source": [
    "#### How to update scikit-learn?"
   ]
  },
  {
   "cell_type": "markdown",
   "metadata": {
    "hidden": true
   },
   "source": [
    "```python\n",
    "conda update scikit-learn\n",
    "```"
   ]
  },
  {
   "cell_type": "markdown",
   "metadata": {},
   "source": [
    "#### How to download just one folder from github repo? "
   ]
  },
  {
   "cell_type": "markdown",
   "metadata": {},
   "source": [
    "The key are two parts:     \n",
    "1. svn checkout    \n",
    "2. remove `tree/master` and replace with `trunk` before the folder name\n",
    "\n",
    "```\n",
    "svn checkout https://github.com/learnml/machine-learning-specialization/trunk/course-3\n",
    "```"
   ]
  },
  {
   "cell_type": "markdown",
   "metadata": {
    "heading_collapsed": true
   },
   "source": [
    "#### How to use untar or unzip? "
   ]
  },
  {
   "cell_type": "markdown",
   "metadata": {
    "hidden": true
   },
   "source": [
    "```\n",
    "conda install unzip\n",
    "unzip -q <filename>\n",
    "```\n",
    "---- "
   ]
  },
  {
   "cell_type": "markdown",
   "metadata": {
    "heading_collapsed": true
   },
   "source": [
    "#### How to install cv2? "
   ]
  },
  {
   "cell_type": "markdown",
   "metadata": {
    "hidden": true
   },
   "source": [
    "- it is to install opencv\n",
    "```\n",
    "conda install opencv\n",
    "```\n",
    "\n",
    "----"
   ]
  },
  {
   "cell_type": "markdown",
   "metadata": {
    "heading_collapsed": true
   },
   "source": [
    "#### How to setup jupyter extension?  [link](http://jupyter-contrib-nbextensions.readthedocs.io/en/latest/install.html#conda)"
   ]
  },
  {
   "cell_type": "markdown",
   "metadata": {
    "hidden": true
   },
   "source": [
    "> - install from conda\n",
    "```\n",
    "conda install -c conda-forge jupyter_contrib_nbextensions\n",
    "jupyter contrib nbextension install --sys-prefix\n",
    "```\n",
    "- enable features I want \n",
    "```\n",
    "jupyter nbextension enable codefolding/main\n",
    "jupyter nbextension enable collapsible_headings/main\n",
    "```\n",
    "- enable through feature config\n",
    "    - open jupyter notebook\n",
    "    - go to edit\n",
    "    - nbextension config\n",
    "    - select and click"
   ]
  },
  {
   "cell_type": "markdown",
   "metadata": {},
   "source": [
    "#### color PDF jupyter notebook"
   ]
  },
  {
   "cell_type": "markdown",
   "metadata": {},
   "source": [
    "Thanks to Dan Marrable's [easier workaround](https://github.com/jupyter/notebook/issues/840)\n",
    "1. save the notebook as html.    \n",
    "2. Open the HTML in a text editor and do a search for `@media print`    \n",
    "3. delete the offending `color:#000 !important;`     \n",
    "4. save, open the file in a browser and print. (use Chrome)   \n",
    "5. open the modified HTML through bracket.io, click Live Preview     "
   ]
  },
  {
   "cell_type": "markdown",
   "metadata": {
    "heading_collapsed": true
   },
   "source": [
    "## bash_profile"
   ]
  },
  {
   "cell_type": "markdown",
   "metadata": {
    "hidden": true
   },
   "source": [
    "```\n",
    "alias rstudio='open -a Rstudio'\n",
    "\n",
    "function ml-jupyter() {\n",
    "    source activate ml\n",
    "    jupyter notebook\n",
    "}\n",
    "\n",
    "function wekaflstart() {\n",
    "    export R_HOME=/Library/Frameworks/R.framework/Resources\n",
    "\n",
    "    java -Xss10M -Xmx4096M -cp :weka.jar weka.gui.knowledgeflow.KnowledgeFlow \"$1\"\n",
    "}\n",
    "\n",
    "function wekastart() {\n",
    "\n",
    "    export Weka_Data=/Users/Natsume/Documents/ml-python-r-weka/wekaData\n",
    "    export R_HOME=/Library/Frameworks/R.framework/Resources\n",
    "\n",
    "    java -Xss500M -Xmx4096M -cp :weka.jar weka.gui.GUIChooser\n",
    "}\n",
    "\n",
    "function lazygit() {\n",
    "    git add .\n",
    "    git commit -a -m \"$1\"\n",
    "    git push\n",
    "}\n",
    "\n",
    "\n",
    "\n",
    "if [ -f ~/.git-completion.bash ]; then\n",
    "  source ~/.git-completion.bash\n",
    "  export PS1=' ->'\n",
    "fi\n",
    "\n",
    "print_before_the_prompt () {\n",
    "  echo \"They are for You: $PWD\"\n",
    "}\n",
    "\n",
    "PROMPT_COMMAND=print_before_the_prompt\n",
    "\n",
    "export PATH=$PATH:/Users/Natsume/work/bin\n",
    "\n",
    "# added by Anaconda 2.3.0 installer\n",
    "export PATH=\"/Users/Natsume/anaconda/bin:$PATH\"\n",
    "\n",
    "# Setting PATH for Python 3.5\n",
    "# The orginal version is saved in .bash_profile.pysave\n",
    "PATH=\"/Library/Frameworks/Python.framework/Versions/3.5/bin:${PATH}\"\n",
    "export PATH\n",
    "\n",
    "\n",
    "# Setting PATH for Python 2.7\n",
    "# The orginal version is saved in .bash_profile.pysave\n",
    "PATH=\"/Library/Frameworks/Python.framework/Versions/2.7/bin:${PATH}\"\n",
    "export PATH\n",
    "\n",
    "##\n",
    "# Your previous /Users/Natsume/.bash_profile file was backed up as /Users/Natsume/.bash_profile.macports-saved_2016-04-22_at_20:34:49\n",
    "##\n",
    "\n",
    "# MacPorts Installer addition on 2016-04-22_at_20:34:49: adding an appropriate PATH variable for use with MacPorts.\n",
    "export PATH=\"/opt/local/bin:/opt/local/sbin:$PATH\"\n",
    "# Finished adapting your PATH environment variable for use with MacPorts.\n",
    "\n",
    "\n",
    "# added by Anaconda2 4.0.0 installer\n",
    "export PATH=\"/Users/Natsume/anaconda/bin:$PATH\"\n",
    "\n",
    "# Setting PATH for Python 2.7\n",
    "# The original version is saved in .bash_profile.pysave\n",
    "PATH=\"/Library/Frameworks/Python.framework/Versions/2.7/bin:${PATH}\"\n",
    "export PATH\n",
    "\n",
    "# Setting PATH for Python 2.7\n",
    "# The original version is saved in .bash_profile.pysave\n",
    "PATH=\"/Library/Frameworks/Python.framework/Versions/2.7/bin:${PATH}\"\n",
    "export PATH\n",
    "\n",
    "# added by Miniconda2 4.1.11 installer\n",
    "export PATH=\"/Users/Natsume/miniconda2/bin:$PATH\"\n",
    "\n",
    "\n",
    "export LC_ALL=zh_CN.UTF-8\n",
    "export LANG=zh_CN.UTF-8\n",
    "\n",
    "export LC_ALL=en_US.UTF-8\n",
    "export LANG=en_US.UTF-8\n",
    "\n",
    "```"
   ]
  },
  {
   "cell_type": "markdown",
   "metadata": {},
   "source": [
    "## Python weka\n",
    "Details are [here](http://stackoverflow.com/documentation/weka/7921/how-to-use-cpython-scripting-in-weka#t=201611200200583814111)"
   ]
  },
  {
   "cell_type": "markdown",
   "metadata": {
    "heading_collapsed": true
   },
   "source": [
    "## setup codes"
   ]
  },
  {
   "cell_type": "markdown",
   "metadata": {
    "hidden": true
   },
   "source": [
    "1. in [bitbucket](https://bitbucket.org/Daniel_Can_LIAO/istep) I store the codes    \n",
    "2. in [stackoverflow](http://stackoverflow.com/users/4333609/kenny) I store my questions and answers and documentations "
   ]
  },
  {
   "cell_type": "markdown",
   "metadata": {
    "heading_collapsed": true
   },
   "source": [
    "## dplyr backward"
   ]
  },
  {
   "cell_type": "markdown",
   "metadata": {
    "hidden": true
   },
   "source": [
    "1. search dplyr with cran    \n",
    "2. find the eariler version of gz source file to download    \n",
    "3. run the following code to install this earlier version \n",
    "```r \n",
    "install.packages(\"/Users/Natsume/Downloads/dplyr_0.4.3.tar.gz\", repos = NULL, type=\"source\")\n",
    "```"
   ]
  },
  {
   "cell_type": "markdown",
   "metadata": {
    "heading_collapsed": true
   },
   "source": [
    "## R "
   ]
  },
  {
   "cell_type": "markdown",
   "metadata": {
    "hidden": true
   },
   "source": [
    "1. [go to download latest R with China host](https://mirrors.tuna.tsinghua.edu.cn/CRAN/)\n",
    "2. download latest pkg\n",
    "3. install it \n",
    "4. restart R-studio to use it"
   ]
  },
  {
   "cell_type": "markdown",
   "metadata": {
    "heading_collapsed": true
   },
   "source": [
    "## rpy2"
   ]
  },
  {
   "cell_type": "markdown",
   "metadata": {
    "hidden": true
   },
   "source": [
    "```python\n",
    "pip install rpy2\n",
    "pip install rpy2 --upgrade\n",
    "```"
   ]
  },
  {
   "cell_type": "markdown",
   "metadata": {
    "heading_collapsed": true
   },
   "source": [
    "## why conda forge"
   ]
  },
  {
   "cell_type": "markdown",
   "metadata": {
    "hidden": true
   },
   "source": [
    "1. [stackoverflow answer](http://stackoverflow.com/questions/39857289/should-i-use-conda-or-conda-forge-when-creating-anaconda-python-environments)     \n",
    "2. install a package with a particular channel: \n",
    "`conda install -c some-channel packagename`\n",
    "`conda install -c conda-forge pandas`\n",
    "3. set a channel to be priority channel for installation\n",
    "`conda config --add channels conda-forge`\n",
    "4. add a channel to less important channel\n",
    "`conda config --append channels some-channel`      \n",
    "5. remove a channel\n",
    "`conda config --remove channels some-channel`\n",
    "\n",
    "**Why use `conda forge` over `conda`**?     \n",
    "1. Packages on conda-forge may be more up-to-date than those on the defaults channel    \n",
    "2. There are packages on the conda-forge channel that aren't available from defaults    \n",
    "3. You would prefer to use a dependency such as openblas (from conda-forge) instead of mkl (from defaults).    "
   ]
  },
  {
   "cell_type": "markdown",
   "metadata": {
    "heading_collapsed": true
   },
   "source": [
    "## lazygit"
   ]
  },
  {
   "cell_type": "markdown",
   "metadata": {
    "hidden": true
   },
   "source": [
    "1. one line to update github: `lazygit \"more\"`   \n",
    "2. normal steps: `git status`, `git add .`, `git commit -m \"more\"`, `git push`    \n",
    "3. to pull from online `git pull`"
   ]
  },
  {
   "cell_type": "markdown",
   "metadata": {
    "heading_collapsed": true
   },
   "source": [
    "## open jupyter"
   ]
  },
  {
   "cell_type": "markdown",
   "metadata": {
    "hidden": true
   },
   "source": [
    "1. go to the terminal of my working directory using ctrl+right click, select 'Services' then select 'New terminal'    \n",
    "2. choose a working environment `source activate tryme`\n",
    "3. run `jupyter notebook` for this working directory"
   ]
  },
  {
   "cell_type": "markdown",
   "metadata": {
    "heading_collapsed": true
   },
   "source": [
    "## conda funcs"
   ]
  },
  {
   "cell_type": "markdown",
   "metadata": {
    "hidden": true
   },
   "source": [
    "0. to install conda see [my personal experience here](http://stackoverflow.com/questions/38061426/importerror-no-module-named-pandas/39145104#39145104)  \n",
    "\n",
    "1. to update conda using \n",
    "```\n",
    "conda update conda\n",
    "```   \n",
    "2. to create an environment installing specific packages \n",
    "```\n",
    "conda create --name tryme numpy pandas bokeh\n",
    "```    \n",
    "\n",
    "3. check all environments created \n",
    "```\n",
    "conda info --envs\n",
    "```      \n",
    "4. make an exact copy of an environment \n",
    "```\n",
    "conda create --name trybokeh --clone tryme\n",
    "```    \n",
    "5. delete an environment \n",
    "```\n",
    "conda remove --name trybokeh --all\n",
    "```     \n",
    "6. check version of a package \n",
    "```\n",
    "python --version\n",
    "```   \n",
    "7. check packages installed in an environment \n",
    "```\n",
    "conda list\n",
    "```    \n",
    "8. check a specific package is available for installation \n",
    "```\n",
    "conda search beautifulsoup4\n",
    "```    \n",
    "9. install and update a package \n",
    "```\n",
    "conda install bokeh\n",
    "```    \n",
    "10. remove a pacakge \n",
    "```conda remove -name trybokeh bokeh\n",
    "```    "
   ]
  },
  {
   "cell_type": "markdown",
   "metadata": {
    "collapsed": true,
    "hidden": true
   },
   "source": []
  },
  {
   "cell_type": "code",
   "execution_count": null,
   "metadata": {
    "collapsed": true,
    "hidden": true
   },
   "outputs": [],
   "source": []
  }
 ],
 "metadata": {
  "kernelspec": {
   "display_name": "Python 3",
   "language": "python",
   "name": "python3"
  },
  "language_info": {
   "codemirror_mode": {
    "name": "ipython",
    "version": 3
   },
   "file_extension": ".py",
   "mimetype": "text/x-python",
   "name": "python",
   "nbconvert_exporter": "python",
   "pygments_lexer": "ipython3",
   "version": "3.6.0"
  }
 },
 "nbformat": 4,
 "nbformat_minor": 1
}
